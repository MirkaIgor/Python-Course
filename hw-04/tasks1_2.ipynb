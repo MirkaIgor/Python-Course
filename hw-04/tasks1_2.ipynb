{
 "cells": [
  {
   "cell_type": "markdown",
   "metadata": {},
   "source": [
    "## Task 1\n",
    "There are some imports"
   ]
  },
  {
   "cell_type": "code",
   "execution_count": 1,
   "metadata": {},
   "outputs": [],
   "source": [
    "import paramiko\n",
    "import re\n",
    "from local_settings import MY_LOGIN, MY_PASSWORD #В файле хранятся только две текстовые константы."
   ]
  },
  {
   "cell_type": "markdown",
   "metadata": {},
   "source": [
    "Connecting to Linux Server by SSH"
   ]
  },
  {
   "cell_type": "code",
   "execution_count": 2,
   "metadata": {},
   "outputs": [],
   "source": [
    "client = paramiko.SSHClient()\n",
    "client.set_missing_host_key_policy(paramiko.AutoAddPolicy())\n",
    "client.connect('127.0.0.1',5555,MY_LOGIN,MY_PASSWORD)"
   ]
  },
  {
   "cell_type": "markdown",
   "metadata": {},
   "source": [
    "Executing linux command and taking data we need by re.search()"
   ]
  },
  {
   "cell_type": "code",
   "execution_count": 3,
   "metadata": {},
   "outputs": [
    {
     "name": "stdout",
     "output_type": "stream",
     "text": [
      "sip\t\t5060/udp\n",
      "sip-tls\t\t5061/udp\n",
      "mdns\t\t5353/udp\t\t\t# Multicast DNS\n",
      "amqp\t\t5672/udp\n",
      "noclog\t\t5354/udp\t\t\t# noclogd with UDP (nocol)\n",
      "hostmon\t\t5355/udp\t\t\t# hostmon uses UDP (nocol)\n",
      "rplay\t\t5555/udp\t\t\t# RPlay audio service\n",
      "\n"
     ]
    }
   ],
   "source": [
    "stdin, stdout, stderr = client.exec_command('cat /etc/services')\n",
    "output = stdout.readlines()\n",
    "output = ''.join([line for line in output if re.search('\\t5[0-9][0-9][0-9]/udp',line)])\n",
    "print(output)\n",
    "stdout.close()\n",
    "stdin.close()\n",
    "stderr.close()\n",
    "client.close()"
   ]
  },
  {
   "cell_type": "markdown",
   "metadata": {},
   "source": [
    "Task 1 Output:\n",
    "<img src=\"img.jpg\">"
   ]
  },
  {
   "cell_type": "markdown",
   "metadata": {},
   "source": [
    "## Task 2\n",
    "Some imports"
   ]
  },
  {
   "cell_type": "code",
   "execution_count": 13,
   "metadata": {},
   "outputs": [],
   "source": [
    "import pandas as pd\n",
    "from datetime import datetime as dt"
   ]
  },
  {
   "cell_type": "code",
   "execution_count": 14,
   "metadata": {},
   "outputs": [
    {
     "data": {
      "text/html": [
       "<div>\n",
       "<style scoped>\n",
       "    .dataframe tbody tr th:only-of-type {\n",
       "        vertical-align: middle;\n",
       "    }\n",
       "\n",
       "    .dataframe tbody tr th {\n",
       "        vertical-align: top;\n",
       "    }\n",
       "\n",
       "    .dataframe thead th {\n",
       "        text-align: right;\n",
       "    }\n",
       "</style>\n",
       "<table border=\"1\" class=\"dataframe\">\n",
       "  <thead>\n",
       "    <tr style=\"text-align: right;\">\n",
       "      <th></th>\n",
       "      <th>Transaction_date</th>\n",
       "      <th>Product</th>\n",
       "      <th>Price</th>\n",
       "      <th>Payment_Type</th>\n",
       "      <th>Name</th>\n",
       "      <th>City</th>\n",
       "      <th>State</th>\n",
       "      <th>Country</th>\n",
       "      <th>Account_Created</th>\n",
       "      <th>Last_Login</th>\n",
       "      <th>...</th>\n",
       "      <th>Account_Created.day-of-month</th>\n",
       "      <th>Account_Created.day-of-week</th>\n",
       "      <th>Account_Created.hour</th>\n",
       "      <th>Account_Created.minute</th>\n",
       "      <th>Last_Login.year</th>\n",
       "      <th>Last_Login.month</th>\n",
       "      <th>Last_Login.day-of-month</th>\n",
       "      <th>Last_Login.day-of-week</th>\n",
       "      <th>Last_Login.hour</th>\n",
       "      <th>Last_Login.minute</th>\n",
       "    </tr>\n",
       "  </thead>\n",
       "  <tbody>\n",
       "    <tr>\n",
       "      <th>0</th>\n",
       "      <td>1/2/09 6:17</td>\n",
       "      <td>Product1</td>\n",
       "      <td>1200</td>\n",
       "      <td>Mastercard</td>\n",
       "      <td>carolina</td>\n",
       "      <td>Basildon</td>\n",
       "      <td>England</td>\n",
       "      <td>United Kingdom</td>\n",
       "      <td>1/2/09 6:00</td>\n",
       "      <td>1/2/09 6:08</td>\n",
       "      <td>...</td>\n",
       "      <td>2</td>\n",
       "      <td>5</td>\n",
       "      <td>6</td>\n",
       "      <td>0</td>\n",
       "      <td>9</td>\n",
       "      <td>1</td>\n",
       "      <td>2</td>\n",
       "      <td>5</td>\n",
       "      <td>6</td>\n",
       "      <td>8</td>\n",
       "    </tr>\n",
       "    <tr>\n",
       "      <th>1</th>\n",
       "      <td>1/2/09 4:53</td>\n",
       "      <td>Product1</td>\n",
       "      <td>1200</td>\n",
       "      <td>Visa</td>\n",
       "      <td>Betina</td>\n",
       "      <td>Parkville</td>\n",
       "      <td>MO</td>\n",
       "      <td>United States</td>\n",
       "      <td>1/2/09 4:42</td>\n",
       "      <td>1/2/09 7:49</td>\n",
       "      <td>...</td>\n",
       "      <td>2</td>\n",
       "      <td>5</td>\n",
       "      <td>4</td>\n",
       "      <td>42</td>\n",
       "      <td>9</td>\n",
       "      <td>1</td>\n",
       "      <td>2</td>\n",
       "      <td>5</td>\n",
       "      <td>7</td>\n",
       "      <td>49</td>\n",
       "    </tr>\n",
       "    <tr>\n",
       "      <th>2</th>\n",
       "      <td>1/2/09 13:08</td>\n",
       "      <td>Product1</td>\n",
       "      <td>1200</td>\n",
       "      <td>Mastercard</td>\n",
       "      <td>Federica e Andrea</td>\n",
       "      <td>Astoria</td>\n",
       "      <td>OR</td>\n",
       "      <td>United States</td>\n",
       "      <td>1/1/09 16:21</td>\n",
       "      <td>1/3/09 12:32</td>\n",
       "      <td>...</td>\n",
       "      <td>1</td>\n",
       "      <td>4</td>\n",
       "      <td>16</td>\n",
       "      <td>21</td>\n",
       "      <td>9</td>\n",
       "      <td>1</td>\n",
       "      <td>3</td>\n",
       "      <td>6</td>\n",
       "      <td>12</td>\n",
       "      <td>32</td>\n",
       "    </tr>\n",
       "    <tr>\n",
       "      <th>3</th>\n",
       "      <td>1/3/09 14:44</td>\n",
       "      <td>Product1</td>\n",
       "      <td>1200</td>\n",
       "      <td>Visa</td>\n",
       "      <td>Gouya</td>\n",
       "      <td>Echuca</td>\n",
       "      <td>Victoria</td>\n",
       "      <td>Australia</td>\n",
       "      <td>9/25/05 21:13</td>\n",
       "      <td>1/3/09 14:22</td>\n",
       "      <td>...</td>\n",
       "      <td>25</td>\n",
       "      <td>7</td>\n",
       "      <td>21</td>\n",
       "      <td>13</td>\n",
       "      <td>9</td>\n",
       "      <td>1</td>\n",
       "      <td>3</td>\n",
       "      <td>6</td>\n",
       "      <td>14</td>\n",
       "      <td>22</td>\n",
       "    </tr>\n",
       "    <tr>\n",
       "      <th>4</th>\n",
       "      <td>1/4/09 12:56</td>\n",
       "      <td>Product2</td>\n",
       "      <td>3600</td>\n",
       "      <td>Visa</td>\n",
       "      <td>Gerd W</td>\n",
       "      <td>Cahaba Heights</td>\n",
       "      <td>AL</td>\n",
       "      <td>United States</td>\n",
       "      <td>11/15/08 15:47</td>\n",
       "      <td>1/4/09 12:45</td>\n",
       "      <td>...</td>\n",
       "      <td>15</td>\n",
       "      <td>6</td>\n",
       "      <td>15</td>\n",
       "      <td>47</td>\n",
       "      <td>9</td>\n",
       "      <td>1</td>\n",
       "      <td>4</td>\n",
       "      <td>7</td>\n",
       "      <td>12</td>\n",
       "      <td>45</td>\n",
       "    </tr>\n",
       "  </tbody>\n",
       "</table>\n",
       "<p>5 rows × 30 columns</p>\n",
       "</div>"
      ],
      "text/plain": [
       "  Transaction_date   Product  Price Payment_Type               Name  \\\n",
       "0      1/2/09 6:17  Product1   1200   Mastercard           carolina   \n",
       "1      1/2/09 4:53  Product1   1200         Visa             Betina   \n",
       "2     1/2/09 13:08  Product1   1200   Mastercard  Federica e Andrea   \n",
       "3     1/3/09 14:44  Product1   1200         Visa              Gouya   \n",
       "4     1/4/09 12:56  Product2   3600         Visa             Gerd W   \n",
       "\n",
       "             City     State         Country Account_Created    Last_Login  \\\n",
       "0        Basildon   England  United Kingdom     1/2/09 6:00   1/2/09 6:08   \n",
       "1       Parkville        MO   United States     1/2/09 4:42   1/2/09 7:49   \n",
       "2         Astoria        OR   United States    1/1/09 16:21  1/3/09 12:32   \n",
       "3          Echuca  Victoria       Australia   9/25/05 21:13  1/3/09 14:22   \n",
       "4  Cahaba Heights        AL   United States  11/15/08 15:47  1/4/09 12:45   \n",
       "\n",
       "   ...  Account_Created.day-of-month  Account_Created.day-of-week  \\\n",
       "0  ...                             2                            5   \n",
       "1  ...                             2                            5   \n",
       "2  ...                             1                            4   \n",
       "3  ...                            25                            7   \n",
       "4  ...                            15                            6   \n",
       "\n",
       "   Account_Created.hour  Account_Created.minute  Last_Login.year  \\\n",
       "0                     6                       0                9   \n",
       "1                     4                      42                9   \n",
       "2                    16                      21                9   \n",
       "3                    21                      13                9   \n",
       "4                    15                      47                9   \n",
       "\n",
       "   Last_Login.month  Last_Login.day-of-month  Last_Login.day-of-week  \\\n",
       "0                 1                        2                       5   \n",
       "1                 1                        2                       5   \n",
       "2                 1                        3                       6   \n",
       "3                 1                        3                       6   \n",
       "4                 1                        4                       7   \n",
       "\n",
       "   Last_Login.hour  Last_Login.minute  \n",
       "0                6                  8  \n",
       "1                7                 49  \n",
       "2               12                 32  \n",
       "3               14                 22  \n",
       "4               12                 45  \n",
       "\n",
       "[5 rows x 30 columns]"
      ]
     },
     "execution_count": 14,
     "metadata": {},
     "output_type": "execute_result"
    }
   ],
   "source": [
    "df = pd.read_csv('SalesJan2009.csv')\n",
    "df.head()"
   ]
  },
  {
   "cell_type": "markdown",
   "metadata": {},
   "source": [
    "Найдем среднее значение цены для платежей с Mastercard"
   ]
  },
  {
   "cell_type": "code",
   "execution_count": 15,
   "metadata": {},
   "outputs": [
    {
     "name": "stdout",
     "output_type": "stream",
     "text": [
      "Среднее значение цены для платежей с MC: 1655.05\n"
     ]
    }
   ],
   "source": [
    "df1 = df.loc[df['Payment_Type']=='Mastercard']\n",
    "print(\"Среднее значение цены для платежей с MC:\",round(df1['Price'].mean(),2))"
   ]
  },
  {
   "cell_type": "code",
   "execution_count": 24,
   "metadata": {},
   "outputs": [
    {
     "data": {
      "text/plain": [
       "<AxesSubplot:xlabel='Date'>"
      ]
     },
     "execution_count": 24,
     "metadata": {},
     "output_type": "execute_result"
    },
    {
     "data": {
      "image/png": "[encoded data removed]",
      "text/plain": [
       "<Figure size 432x288 with 1 Axes>"
      ]
     },
     "metadata": {
      "needs_background": "light"
     },
     "output_type": "display_data"
    }
   ],
   "source": [
    "df['Date'] = df['Transaction_date'].apply(lambda x: dt.strptime(x.split(' ')[0],'%m/%d/%y'))\n",
    "df.sort_values(by=['Date'],inplace=True)\n",
    "df.groupby(['Payment_Type','Date'])['Price'].sum().unstack('Payment_Type',fill_value=0).plot()"
   ]
  }
 ],
 "metadata": {
  "interpreter": {
   "hash": "c5924b92e9b313d8207457b68f253fb0e440ca378f4aec5917466d19ee23810d"
  },
  "kernelspec": {
   "display_name": "Python 3.9.7 64-bit",
   "language": "python",
   "name": "python3"
  },
  "language_info": {
   "codemirror_mode": {
    "name": "ipython",
    "version": 3
   },
   "file_extension": ".py",
   "mimetype": "text/x-python",
   "name": "python",
   "nbconvert_exporter": "python",
   "pygments_lexer": "ipython3",
   "version": "3.9.7"
  },
  "orig_nbformat": 4
 },
 "nbformat": 4,
 "nbformat_minor": 2
}
